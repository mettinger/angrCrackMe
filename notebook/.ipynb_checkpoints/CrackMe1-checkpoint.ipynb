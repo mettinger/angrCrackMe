{
 "cells": [
  {
   "cell_type": "code",
   "execution_count": 1,
   "id": "28677eb1-92ad-4bc1-843b-3b2229c52261",
   "metadata": {},
   "outputs": [],
   "source": [
    "import angr, claripy"
   ]
  },
  {
   "cell_type": "code",
   "execution_count": 5,
   "id": "728103e8-51c4-4f9e-8cf7-1f87d1618089",
   "metadata": {},
   "outputs": [
    {
     "ename": "Exception",
     "evalue": "Not a valid binary file: '/Users/jetti/github/angrCrackMe//rackMe1.exe'",
     "output_type": "error",
     "traceback": [
      "\u001b[1;31m---------------------------------------------------------------------------\u001b[0m",
      "\u001b[1;31mException\u001b[0m                                 Traceback (most recent call last)",
      "Cell \u001b[1;32mIn[5], line 6\u001b[0m\n\u001b[0;32m      3\u001b[0m startAddress \u001b[38;5;241m=\u001b[39m \u001b[38;5;241m0x401102\u001b[39m \u001b[38;5;66;03m# start after input\u001b[39;00m\n\u001b[0;32m      4\u001b[0m serialLen \u001b[38;5;241m=\u001b[39m \u001b[38;5;241m10\u001b[39m \u001b[38;5;66;03m# this should be double the length of the name entered\u001b[39;00m\n\u001b[1;32m----> 6\u001b[0m proj \u001b[38;5;241m=\u001b[39m \u001b[43mangr\u001b[49m\u001b[38;5;241;43m.\u001b[39;49m\u001b[43mProject\u001b[49m\u001b[43m(\u001b[49m\u001b[43mbinaryName\u001b[49m\u001b[43m,\u001b[49m\u001b[43m \u001b[49m\u001b[43mmain_opts\u001b[49m\u001b[38;5;241;43m=\u001b[39;49m\u001b[43m{\u001b[49m\u001b[38;5;124;43m'\u001b[39;49m\u001b[38;5;124;43mbase_addr\u001b[39;49m\u001b[38;5;124;43m'\u001b[39;49m\u001b[43m:\u001b[49m\u001b[43m \u001b[49m\u001b[43mbase_addr\u001b[49m\u001b[43m}\u001b[49m\u001b[43m)\u001b[49m\n",
      "File \u001b[1;32m~\\mambaforge\\envs\\angr\\lib\\site-packages\\angr\\project.py:142\u001b[0m, in \u001b[0;36mProject.__init__\u001b[1;34m(self, thing, default_analysis_mode, ignore_functions, use_sim_procedures, exclude_sim_procedures_func, exclude_sim_procedures_list, arch, simos, engine, load_options, translation_cache, selfmodifying_code, support_selfmodifying_code, store_function, load_function, analyses_preset, concrete_target, eager_ifunc_resolution, **kwargs)\u001b[0m\n\u001b[0;32m    140\u001b[0m     \u001b[38;5;28mself\u001b[39m\u001b[38;5;241m.\u001b[39mloader \u001b[38;5;241m=\u001b[39m cle\u001b[38;5;241m.\u001b[39mLoader(thing, \u001b[38;5;241m*\u001b[39m\u001b[38;5;241m*\u001b[39mload_options)\n\u001b[0;32m    141\u001b[0m \u001b[38;5;28;01melif\u001b[39;00m \u001b[38;5;129;01mnot\u001b[39;00m \u001b[38;5;28misinstance\u001b[39m(thing, (\u001b[38;5;28mstr\u001b[39m, Path)) \u001b[38;5;129;01mor\u001b[39;00m \u001b[38;5;129;01mnot\u001b[39;00m os\u001b[38;5;241m.\u001b[39mpath\u001b[38;5;241m.\u001b[39mexists(thing) \u001b[38;5;129;01mor\u001b[39;00m \u001b[38;5;129;01mnot\u001b[39;00m os\u001b[38;5;241m.\u001b[39mpath\u001b[38;5;241m.\u001b[39misfile(thing):\n\u001b[1;32m--> 142\u001b[0m     \u001b[38;5;28;01mraise\u001b[39;00m \u001b[38;5;167;01mException\u001b[39;00m(\u001b[38;5;124m\"\u001b[39m\u001b[38;5;124mNot a valid binary file: \u001b[39m\u001b[38;5;132;01m%s\u001b[39;00m\u001b[38;5;124m\"\u001b[39m \u001b[38;5;241m%\u001b[39m \u001b[38;5;28mrepr\u001b[39m(thing))\n\u001b[0;32m    143\u001b[0m \u001b[38;5;28;01melse\u001b[39;00m:\n\u001b[0;32m    144\u001b[0m     \u001b[38;5;66;03m# use angr's loader, provided by cle\u001b[39;00m\n\u001b[0;32m    145\u001b[0m     l\u001b[38;5;241m.\u001b[39minfo(\u001b[38;5;124m\"\u001b[39m\u001b[38;5;124mLoading binary \u001b[39m\u001b[38;5;132;01m%s\u001b[39;00m\u001b[38;5;124m\"\u001b[39m, thing)\n",
      "\u001b[1;31mException\u001b[0m: Not a valid binary file: '/Users/jetti/github/angrCrackMe//rackMe1.exe'"
     ]
    }
   ],
   "source": [
    "binaryName = '/Users/jetti/github/angrCrackMe//rackMe1.exe'\n",
    "base_addr = 0x400000\n",
    "startAddress = 0x401102 # start after input\n",
    "serialLen = 10 # this should be double the length of the name entered\n",
    "\n",
    "proj = angr.Project(binaryName, main_opts={'base_addr': base_addr})"
   ]
  },
  {
   "cell_type": "code",
   "execution_count": 3,
   "id": "26b48049-b202-4540-acd6-ece92f4cba51",
   "metadata": {},
   "outputs": [],
   "source": [
    "state = proj.factory.blank_state(addr=startAddress)\n",
    "state.options.add(angr.options.ZERO_FILL_UNCONSTRAINED_MEMORY)\n",
    "state.options.add(angr.options.ZERO_FILL_UNCONSTRAINED_REGISTERS)\n",
    "\n",
    "encodedName = b'0E0303080E' # this is the encoded form of the entered name \"marke\"\n",
    "\n",
    "state.memory.store(state.regs.esp, encodedName) # we can store the encoded name anywhere as long as we put the address in eax\n",
    "state.regs.eax = state.regs.esp # store the address of the encoded name\n",
    "\n",
    "serial = claripy.BVS('serial', 8 * (serialLen))\n",
    "serialSymbolLocation = state.regs.esp - 0x20  # put the symbolic serial number somewhere\n",
    "state.memory.store(serialSymbolLocation, serial)\n",
    "state.regs.esi = serialSymbolLocation # the address of the symbolic serial number must be in esi"
   ]
  },
  {
   "cell_type": "code",
   "execution_count": 4,
   "id": "642e2f6c-47a7-413b-b5f9-7b69befb0eb2",
   "metadata": {},
   "outputs": [
    {
     "data": {
      "text/plain": [
       "<SimulationManager with 1 found, 10 avoid>"
      ]
     },
     "execution_count": 4,
     "metadata": {},
     "output_type": "execute_result"
    }
   ],
   "source": [
    "simgr = proj.factory.simgr(state)\n",
    "\n",
    "crackedBlock = 0x401139\n",
    "failedBlock = 0x40114E\n",
    "\n",
    "simgr.explore(find=crackedBlock, avoid=failedBlock) # we want the serial number to be the same string as the encoded name above"
   ]
  },
  {
   "cell_type": "code",
   "execution_count": 5,
   "id": "4ab38444-59ca-468d-9b23-fb5f5e1569b0",
   "metadata": {},
   "outputs": [
    {
     "data": {
      "text/plain": [
       "'0x30453033303330383045'"
      ]
     },
     "execution_count": 5,
     "metadata": {},
     "output_type": "execute_result"
    }
   ],
   "source": [
    "solution_state = simgr.found[0]\n",
    "serialSolution = solution_state.solver.eval(serial)\n",
    "hex(serialSolution)"
   ]
  }
 ],
 "metadata": {
  "kernelspec": {
   "display_name": "Python 3 (ipykernel)",
   "language": "python",
   "name": "python3"
  },
  "language_info": {
   "codemirror_mode": {
    "name": "ipython",
    "version": 3
   },
   "file_extension": ".py",
   "mimetype": "text/x-python",
   "name": "python",
   "nbconvert_exporter": "python",
   "pygments_lexer": "ipython3",
   "version": "3.10.12"
  }
 },
 "nbformat": 4,
 "nbformat_minor": 5
}
