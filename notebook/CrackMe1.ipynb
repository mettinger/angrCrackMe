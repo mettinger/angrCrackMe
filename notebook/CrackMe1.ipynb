{
 "cells": [
  {
   "cell_type": "code",
   "execution_count": 1,
   "id": "28677eb1-92ad-4bc1-843b-3b2229c52261",
   "metadata": {},
   "outputs": [],
   "source": [
    "import angr, claripy"
   ]
  },
  {
   "cell_type": "code",
   "execution_count": 2,
   "id": "728103e8-51c4-4f9e-8cf7-1f87d1618089",
   "metadata": {},
   "outputs": [],
   "source": [
    "binaryName =  '../bin/CrackMe1.exe'\n",
    "base_addr = 0x400000\n",
    "startAddress = 0x401102 # start after input\n",
    "serialLen = 10 # this should be double the length of the name entered\n",
    "\n",
    "proj = angr.Project(binaryName, main_opts={'base_addr': base_addr})"
   ]
  },
  {
   "cell_type": "code",
   "execution_count": 3,
   "id": "26b48049-b202-4540-acd6-ece92f4cba51",
   "metadata": {},
   "outputs": [],
   "source": [
    "state = proj.factory.blank_state(addr=startAddress)\n",
    "state.options.add(angr.options.ZERO_FILL_UNCONSTRAINED_MEMORY)\n",
    "state.options.add(angr.options.ZERO_FILL_UNCONSTRAINED_REGISTERS)\n",
    "\n",
    "encodedName = b'0E0303080E' # this is the encoded form of the entered name \"marke\"\n",
    "\n",
    "state.memory.store(state.regs.esp, encodedName) # we can store the encoded name anywhere as long as we put the address in eax\n",
    "state.regs.eax = state.regs.esp # store the address of the encoded name\n",
    "\n",
    "serial = claripy.BVS('serial', 8 * (serialLen))\n",
    "serialSymbolLocation = state.regs.esp - 0x20  # put the symbolic serial number somewhere\n",
    "state.memory.store(serialSymbolLocation, serial)\n",
    "state.regs.esi = serialSymbolLocation # the address of the symbolic serial number must be in esi"
   ]
  },
  {
   "cell_type": "code",
   "execution_count": 4,
   "id": "642e2f6c-47a7-413b-b5f9-7b69befb0eb2",
   "metadata": {},
   "outputs": [
    {
     "data": {
      "text/plain": [
       "<SimulationManager with 1 found, 10 avoid>"
      ]
     },
     "execution_count": 4,
     "metadata": {},
     "output_type": "execute_result"
    }
   ],
   "source": [
    "simgr = proj.factory.simgr(state)\n",
    "\n",
    "crackedBlock = 0x401139\n",
    "failedBlock = 0x40114E\n",
    "\n",
    "simgr.explore(find=crackedBlock, avoid=failedBlock) # we want the serial number to be the same string as the encoded name above"
   ]
  },
  {
   "cell_type": "code",
   "execution_count": 5,
   "id": "4ab38444-59ca-468d-9b23-fb5f5e1569b0",
   "metadata": {},
   "outputs": [
    {
     "data": {
      "text/plain": [
       "'0x30453033303330383045'"
      ]
     },
     "execution_count": 5,
     "metadata": {},
     "output_type": "execute_result"
    }
   ],
   "source": [
    "solution_state = simgr.found[0]\n",
    "serialSolution = solution_state.solver.eval(serial)\n",
    "hex(serialSolution)"
   ]
  },
  {
   "cell_type": "code",
   "execution_count": null,
   "id": "8c52a792-b5e6-4673-ac1e-54d28464832b",
   "metadata": {},
   "outputs": [],
   "source": []
  }
 ],
 "metadata": {
  "kernelspec": {
   "display_name": "Python 3 (ipykernel)",
   "language": "python",
   "name": "python3"
  },
  "language_info": {
   "codemirror_mode": {
    "name": "ipython",
    "version": 3
   },
   "file_extension": ".py",
   "mimetype": "text/x-python",
   "name": "python",
   "nbconvert_exporter": "python",
   "pygments_lexer": "ipython3",
   "version": "3.10.12"
  }
 },
 "nbformat": 4,
 "nbformat_minor": 5
}
